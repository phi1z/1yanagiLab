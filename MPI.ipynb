{
  "nbformat": 4,
  "nbformat_minor": 0,
  "metadata": {
    "colab": {
      "provenance": [],
      "authorship_tag": "ABX9TyOSJ92EmauZNKPDHpBM0v49",
      "include_colab_link": true
    },
    "kernelspec": {
      "name": "python3",
      "display_name": "Python 3"
    },
    "language_info": {
      "name": "python"
    }
  },
  "cells": [
    {
      "cell_type": "markdown",
      "metadata": {
        "id": "view-in-github",
        "colab_type": "text"
      },
      "source": [
        "<a href=\"https://colab.research.google.com/github/phi1z/1yanagiLab/blob/main/MPI.ipynb\" target=\"_parent\"><img src=\"https://colab.research.google.com/assets/colab-badge.svg\" alt=\"Open In Colab\"/></a>"
      ]
    },
    {
      "cell_type": "code",
      "execution_count": 1,
      "metadata": {
        "id": "IRu7G1DBNTC9"
      },
      "outputs": [],
      "source": [
        "#@title ##前提ファイルの読み込み (**とりあえず押して！**)  { display-mode: \"form\"}\n",
        "\n",
        "from IPython.display import display, Math\n",
        "import pandas as pd\n",
        "import numpy as np\n",
        "import os\n",
        "import matplotlib.pyplot as plt\n",
        "import matplotlib.colors as mcolors\n",
        "import matplotlib.patheffects as pe\n",
        "from scipy.stats import norm\n",
        "\n",
        "os.makedirs(\"data\", exist_ok=True)\n",
        "os.makedirs(\"result\", exist_ok=True)\n",
        "\n",
        "# 出力をクリア\n",
        "from IPython.display import clear_output\n",
        "clear_output()"
      ]
    },
    {
      "cell_type": "markdown",
      "source": [
        "## **`data`フォルダーにデータを入れる**"
      ],
      "metadata": {
        "id": "5ZvtWq5aOtLr"
      }
    },
    {
      "cell_type": "code",
      "source": [
        "#@title ファイルを確認 { display-mode: \"form\"}\n",
        "#@markdown ##1. 実行ボタンを押してファイルを確認\n",
        "#@markdown ##2. 解析するファイルを選択 (実行ボタンは押さない)\n",
        "files = os.listdir(\"data\")\n",
        "MRIs = [f for f in files if os.path.splitext(f)[1] == '.csv']\n",
        "MRIs = np.sort(MRIs)\n",
        "\n",
        "print(f\"ファイル数: {len(MRIs)}\")\n",
        "print(f\"1: {MRIs[0]} \")\n",
        "if len(MRIs) > 1:\n",
        "  print(f\"2: {MRIs[1]} \")\n",
        "else:\n",
        "  print(\"......\")\n",
        "if len(MRIs) > 2:\n",
        "  print(f\"3: {MRIs[2]} \")\n",
        "  print(\"......\")\n",
        "else:\n",
        "  print(\"......\")\n"
      ],
      "metadata": {
        "colab": {
          "base_uri": "https://localhost:8080/"
        },
        "id": "t-v2i3VyNxAz",
        "outputId": "7d0ad889-807a-43c0-bdb2-1b56e3129286"
      },
      "execution_count": 4,
      "outputs": [
        {
          "output_type": "stream",
          "name": "stdout",
          "text": [
            "ファイル数: 20\n",
            "1: Fe3O4_acetone_2025-06-11_1.csv \n",
            "2: Fe3O4_acetone_2025-06-11_2.csv \n",
            "3: Fe3O4_acetone_2025-06-11_3.csv \n",
            "......\n"
          ]
        }
      ]
    },
    {
      "cell_type": "code",
      "source": [
        "#@title サンプルを選択 { display-mode: \"form\", run: \"auto\" }\n",
        "#@markdown ##共通の文字を入力\n",
        "key_word = \"bkg\" # @param {\"type\":\"string\"}\n",
        "\n",
        "\n",
        "target_samples = [f for f in files if key_word in f]\n",
        "target_samples = sorted(target_samples)\n",
        "\n",
        "print(f\"データは {len(target_samples)}個 見つかりました\")\n",
        "for i, target_sample in enumerate(target_samples):\n",
        "  print(f\"{i+1}: {target_sample}\")\n",
        "target_pathes = [os.path.join(\"data\", target_sample) for target_sample in target_samples]"
      ],
      "metadata": {
        "colab": {
          "base_uri": "https://localhost:8080/"
        },
        "id": "vzzqpUEuP0jT",
        "outputId": "6b47790c-185d-471d-c4af-c0ac6e6d2cef"
      },
      "execution_count": 15,
      "outputs": [
        {
          "output_type": "stream",
          "name": "stdout",
          "text": [
            "データは 5個 見つかりました\n",
            "1: bkg_2025-06-11_1.csv\n",
            "2: bkg_2025-06-11_2.csv\n",
            "3: bkg_2025-06-11_3.csv\n",
            "4: bkg_2025-06-11_4.csv\n",
            "5: bkg_2025-06-11_5.csv\n"
          ]
        }
      ]
    },
    {
      "cell_type": "code",
      "source": [
        "#@title 統計処理 { display-mode: \"form\"}\n",
        "#@markdown ##サンプル質量(mg)を入力\n",
        "mass = 100 # @param {\"type\":\"number\"}\n",
        "mass_g = mass / 1000\n",
        "mass_kg = mass_g / 1000\n",
        "\n",
        "#@markdown ##シグナルの質量単位を入力\n",
        "signal_unit = \"g\" # @param [\"mg\",\"g\",\"kg\"]\n",
        "\n",
        "if signal_unit == \"g\":\n",
        "  signal_mass = mass_g\n",
        "elif signal_unit == \"kg\":\n",
        "  signal_mass = mass_kg\n",
        "else:\n",
        "  signal_mass = mass\n",
        "\n",
        "#@markdown ##信頼区間(%)を入力\n",
        "#@markdown ###※0だと標準誤差(SE)になります\n",
        "CI = 0 # @param {\"type\":\"number\"}\n",
        "\n",
        "def SE(nums, pcent=0):\n",
        "  sample_size = len(nums)\n",
        "  std_dev = np.std(nums, ddof=1)\n",
        "  std_err = std_dev / np.sqrt(sample_size)\n",
        "  if pcent == 0:\n",
        "    return std_err\n",
        "  else:\n",
        "    if pcent > 100:\n",
        "      pcent = 99.9\n",
        "    elif pcent < 0:\n",
        "      pcent = 1\n",
        "    z_score = norm.ppf(1 - (1 - pcent/100) / 2)\n",
        "    return std_err * z_score\n",
        "\n",
        "def read_mpi(file, unit=\"V\"):\n",
        "  dat = pd.read_csv(file, header=None)\n",
        "  dat = dat.T\n",
        "  n = len(dat)\n",
        "  Harmonics = pd.DataFrame(np.zeros([int(n/3), 3]) , columns=[\"base\", \"1h\", \"3h\"])\n",
        "  Harmonics[\"base\"] = dat.iloc[3*np.arange(n/3)].values\n",
        "  Harmonics[\"1h\"] = dat.iloc[3*np.arange(n/3)+1].values\n",
        "  Harmonics[\"3h\"] = dat.iloc[3*np.arange(n/3)+2].values\n",
        "  Harmonics = Harmonics.astype(float)\n",
        "  if unit == \"mV\":\n",
        "    Harmonics = Harmonics*1000\n",
        "  return Harmonics\n",
        "\n",
        "def table_mpi(files):\n",
        "  n = len(files)\n",
        "  mtable = pd.DataFrame(np.zeros([n, 4]), columns=[\"sample\", \"1h\", \"3h\", \"ratio\"])\n",
        "  mtable[\"sample\"] = [f.replace(\".csv\", \"\").replace(\"data/\", \"\") for f in files]\n",
        "  for i, file in enumerate(files):\n",
        "    dat = read_mpi(file, unit=\"mV\")\n",
        "    mtable.iloc[i, 1] = dat.mean()[\"1h\"]\n",
        "    mtable.iloc[i, 2] = dat.mean()[\"3h\"]\n",
        "    mtable.iloc[i, 3] = mtable.iloc[i, 2] / mtable.iloc[i, 1]\n",
        "  return mtable\n",
        "\n",
        "def stat_mpi(files, ci=0):\n",
        "  if len(files) < 2:\n",
        "    print(\"Too small the number of files!!\")\n",
        "    return None\n",
        "  n = len(files)\n",
        "  mtable = table_mpi(files)\n",
        "  stable = pd.DataFrame(np.zeros([1, 6]),\n",
        "                        columns=[\"1h\", \"d_1h\", \"3h\", \"d_3h\", \"ratio\", \"d_ratio\"])\n",
        "  stable[\"1h\"] = mtable[\"1h\"].mean()\n",
        "  stable[\"3h\"] = mtable[\"3h\"].mean()\n",
        "  stable[\"ratio\"] = mtable[\"ratio\"].mean()\n",
        "  stable[\"d_1h\"] = SE(mtable[\"1h\"], pcent=ci)\n",
        "  stable[\"d_3h\"] = SE(mtable[\"3h\"], pcent=ci)\n",
        "  stable[\"d_ratio\"] = SE(mtable[\"ratio\"], pcent=ci)\n",
        "  return stable\n",
        "\n",
        "result_mpi = stat_mpi(target_pathes, ci=CI)\n",
        "result_mpi[\"signal\"] = result_mpi[\"ratio\"] / signal_mass\n",
        "result_mpi[\"d_signal\"] = result_mpi[\"d_ratio\"] / signal_mass\n",
        "\n",
        "print(\"======Condition======\")\n",
        "print(\"n = {}\".format(len(target_pathes)))\n",
        "print(\"Confidence interval = {}%\".format(CI))\n",
        "print(\"Sample mass = {} mg\".format(mass))\n",
        "print(\"Signal unit = {}^-1\".format(signal_unit))\n",
        "print(\"\\n======Result======\")\n",
        "# display(result_mpi)\n",
        "display(Math(r\"\\text{{1st Harmonic}} = {:.4g} \\pm {:.2g} \\,\\text{{mV}}\".format(result_mpi[\"1h\"][0], result_mpi['d_1h'][0])))\n",
        "display(Math(r\"\\text{{3rd Harmonic}} = {:.3g} \\pm {:.1g} \\,\\text{{mV}}\".format(result_mpi[\"3h\"][0], result_mpi['d_3h'][0])))\n",
        "display(Math(r\"\\text{{Ratio}} = ( {:.3g} \\pm {:.2g} ) \\times 10^{{-3}}\".format(1000*result_mpi[\"ratio\"][0], 1000*result_mpi['d_ratio'][0])))\n",
        "display(Math(r\"\\text{{Signal}} = {:.3g} \\pm {:.2g} \\,\\text{{{}}}^{{-1}}\".format(result_mpi[\"signal\"][0], result_mpi['d_signal'][0], signal_unit)))\n",
        "\n",
        "save_path = os.path.join(\"result\", f\"{key_word}.csv\")\n",
        "result_mpi.to_csv(save_path)\n",
        "print(f\"\\nSave: {save_path}に保存しました\")"
      ],
      "metadata": {
        "colab": {
          "base_uri": "https://localhost:8080/",
          "height": 263
        },
        "id": "_OddeWux9S-V",
        "outputId": "83153a03-a2eb-4d89-9acc-bda115674b9d"
      },
      "execution_count": 16,
      "outputs": [
        {
          "output_type": "stream",
          "name": "stdout",
          "text": [
            "======Condition======\n",
            "n = 5\n",
            "Confidence interval = 0%\n",
            "Sample mass = 100 mg\n",
            "Signal unit = g^-1\n",
            "\n",
            "======Result======\n"
          ]
        },
        {
          "output_type": "display_data",
          "data": {
            "text/plain": [
              "<IPython.core.display.Math object>"
            ],
            "text/latex": "$\\displaystyle \\text{1st Harmonic} = 89.13 \\pm 0.28 \\,\\text{mV}$"
          },
          "metadata": {}
        },
        {
          "output_type": "display_data",
          "data": {
            "text/plain": [
              "<IPython.core.display.Math object>"
            ],
            "text/latex": "$\\displaystyle \\text{3rd Harmonic} = 0.032 \\pm 0.0004 \\,\\text{mV}$"
          },
          "metadata": {}
        },
        {
          "output_type": "display_data",
          "data": {
            "text/plain": [
              "<IPython.core.display.Math object>"
            ],
            "text/latex": "$\\displaystyle \\text{Ratio} = ( 0.359 \\pm 0.0048 ) \\times 10^{-3}$"
          },
          "metadata": {}
        },
        {
          "output_type": "display_data",
          "data": {
            "text/plain": [
              "<IPython.core.display.Math object>"
            ],
            "text/latex": "$\\displaystyle \\text{Signal} = 0.00359 \\pm 4.8e-05 \\,\\text{g}^{-1}$"
          },
          "metadata": {}
        },
        {
          "output_type": "stream",
          "name": "stdout",
          "text": [
            "\n",
            "Save: result/bkg.csvに保存しました\n"
          ]
        }
      ]
    }
  ]
}