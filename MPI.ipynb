{
  "nbformat": 4,
  "nbformat_minor": 0,
  "metadata": {
    "colab": {
      "provenance": [],
      "authorship_tag": "ABX9TyMFent3eW9yxqE1O5X9F1VR",
      "include_colab_link": true
    },
    "kernelspec": {
      "name": "python3",
      "display_name": "Python 3"
    },
    "language_info": {
      "name": "python"
    }
  },
  "cells": [
    {
      "cell_type": "markdown",
      "metadata": {
        "id": "view-in-github",
        "colab_type": "text"
      },
      "source": [
        "<a href=\"https://colab.research.google.com/github/phi1z/1yanagiLab/blob/main/MPI.ipynb\" target=\"_parent\"><img src=\"https://colab.research.google.com/assets/colab-badge.svg\" alt=\"Open In Colab\"/></a>"
      ]
    },
    {
      "cell_type": "code",
      "execution_count": null,
      "metadata": {
        "id": "IRu7G1DBNTC9"
      },
      "outputs": [],
      "source": [
        "#@title ##前提ファイルの読み込み (**とりあえず押して！**)  { display-mode: \"form\"}\n",
        "\n",
        "from IPython.display import display, Math\n",
        "import pandas as pd\n",
        "import numpy as np\n",
        "import os\n",
        "import matplotlib.pyplot as plt\n",
        "import matplotlib.colors as mcolors\n",
        "import matplotlib.patheffects as pe\n",
        "from scipy.stats import norm\n",
        "\n",
        "os.makedirs(\"data\", exist_ok=True)\n",
        "os.makedirs(\"result\", exist_ok=True)\n",
        "\n",
        "# 出力をクリア\n",
        "from IPython.display import clear_output\n",
        "clear_output()"
      ]
    },
    {
      "cell_type": "markdown",
      "source": [
        "## **S/N 計算**"
      ],
      "metadata": {
        "id": "aGSo2WT_uxX0"
      }
    },
    {
      "cell_type": "code",
      "source": [
        "#@title ファイルを確認 { display-mode: \"form\"}\n",
        "#@markdown ## **`data`フォルダーにデータを入れる**\n",
        "#@markdown ##1. 実行ボタンを押してファイルを確認\n",
        "files = os.listdir(\"data\")\n",
        "MRIs = [f for f in files if os.path.splitext(f)[1] == '.csv']\n",
        "MRIs = np.sort(MRIs)\n",
        "\n",
        "print(f\"ファイル数: {len(MRIs)}\")\n",
        "print(f\"1: {MRIs[0]} \")\n",
        "if len(MRIs) > 1:\n",
        "  print(f\"2: {MRIs[1]} \")\n",
        "else:\n",
        "  print(\"......\")\n",
        "if len(MRIs) > 2:\n",
        "  print(f\"3: {MRIs[2]} \")\n",
        "  print(\"......\")\n",
        "else:\n",
        "  print(\"......\")\n"
      ],
      "metadata": {
        "id": "X3b4R1P2u2W7"
      },
      "execution_count": null,
      "outputs": []
    },
    {
      "cell_type": "code",
      "source": [
        "#@title S/N計算 { display-mode: \"form\"}\n",
        "#@markdown ##2. 実行\n",
        "#@markdown ##3. `result/`に`yy-mm-dd.csv`の結果が保存\n",
        "\n",
        "def read_mpi(file, unit=\"V\"):\n",
        "  dat = pd.read_csv(file, header=None)\n",
        "  dat = dat.T\n",
        "  n = len(dat)\n",
        "  Harmonics = pd.DataFrame(np.zeros([int(n/3), 3]) , columns=[\"base\", \"1h\", \"3h\"])\n",
        "  Harmonics[\"base\"] = dat.iloc[3*np.arange(n/3)].values\n",
        "  Harmonics[\"1h\"] = dat.iloc[3*np.arange(n/3)+1].values\n",
        "  Harmonics[\"3h\"] = dat.iloc[3*np.arange(n/3)+2].values\n",
        "  Harmonics = Harmonics.astype(float)\n",
        "  if unit == \"mV\":\n",
        "    Harmonics = Harmonics*1000\n",
        "  return Harmonics\n",
        "\n",
        "def snr_mpi(df):\n",
        "  table = pd.DataFrame(np.zeros([1, 4]), columns=[\"1h\", \"1h_sd\", \"3h\", \"3h_sd\"])\n",
        "  table[\"1h\"] = df[\"1h\"].mean()\n",
        "  table[\"1h_sd\"] = df[\"1h\"].std()\n",
        "  table[\"3h\"] = df[\"3h\"].mean()\n",
        "  table[\"3h_sd\"] = df[\"3h\"].std()\n",
        "  return table\n",
        "\n",
        "def table_mpi(files):\n",
        "  n = len(files)\n",
        "  mtable = pd.DataFrame(np.zeros([n, 5]), columns=[\"sample\", \"1h\", \"1h_sd\", \"3h\", \"3h_sd\"])\n",
        "  mtable[\"sample\"] = [f.replace(\".csv\", \"\").replace(\"data/\", \"\") for f in files]\n",
        "  for i, file in enumerate(files):\n",
        "    df = read_mpi(file, unit=\"mV\")\n",
        "    this_table = snr_mpi(df)\n",
        "    mtable.iloc[i, :][\"sample\"] = file.replace(\".csv\", \"\").replace(\"data/\", \"\")\n",
        "    mtable.iloc[i, 1:5] = this_table\n",
        "  return mtable\n",
        "\n",
        "pathes = [os.path.join(\"data\", f) for f in MRIs]\n",
        "result_mpi = table_mpi(pathes)\n",
        "\n",
        "print(\"\\n======Result======\")\n",
        "print(\"n = {}\".format(len(pathes)))\n",
        "display(result_mpi)\n",
        "\n",
        "today = pd.to_datetime(\"today\").strftime(\"%Y-%m-%d\")\n",
        "save_path = os.path.join(\"result\", f\"{today}.csv\")\n",
        "result_mpi.to_csv(save_path)\n",
        "print(f\"\\nSave: {save_path}に保存しました\")"
      ],
      "metadata": {
        "id": "XI1QqEzfvKqb"
      },
      "execution_count": null,
      "outputs": []
    },
    {
      "cell_type": "markdown",
      "source": [
        "## **統計処理**"
      ],
      "metadata": {
        "id": "5ZvtWq5aOtLr"
      }
    },
    {
      "cell_type": "code",
      "source": [
        "#@title ファイルを確認 { display-mode: \"form\"}\n",
        "#@markdown ## **`data`フォルダーにデータを入れる**\n",
        "#@markdown ##1. 実行ボタンを押してファイルを確認\n",
        "#@markdown ##2. 解析するファイルを選択 (実行ボタンは押さない)\n",
        "files = os.listdir(\"data\")\n",
        "MRIs = [f for f in files if os.path.splitext(f)[1] == '.csv']\n",
        "MRIs = np.sort(MRIs)\n",
        "\n",
        "print(f\"ファイル数: {len(MRIs)}\")\n",
        "print(f\"1: {MRIs[0]} \")\n",
        "if len(MRIs) > 1:\n",
        "  print(f\"2: {MRIs[1]} \")\n",
        "else:\n",
        "  print(\"......\")\n",
        "if len(MRIs) > 2:\n",
        "  print(f\"3: {MRIs[2]} \")\n",
        "  print(\"......\")\n",
        "else:\n",
        "  print(\"......\")\n"
      ],
      "metadata": {
        "id": "t-v2i3VyNxAz"
      },
      "execution_count": null,
      "outputs": []
    },
    {
      "cell_type": "code",
      "source": [
        "#@title サンプルを選択 { display-mode: \"form\", run: \"auto\" }\n",
        "#@markdown ##共通の文字を入力\n",
        "key_word = \"Acetone\" # @param {\"type\":\"string\"}\n",
        "\n",
        "\n",
        "target_samples = [f for f in files if key_word in f]\n",
        "target_samples = sorted(target_samples)\n",
        "\n",
        "print(f\"データは {len(target_samples)}個 見つかりました\")\n",
        "for i, target_sample in enumerate(target_samples):\n",
        "  print(f\"{i+1}: {target_sample}\")\n",
        "target_pathes = [os.path.join(\"data\", target_sample) for target_sample in target_samples]"
      ],
      "metadata": {
        "id": "vzzqpUEuP0jT"
      },
      "execution_count": null,
      "outputs": []
    },
    {
      "cell_type": "code",
      "source": [
        "#@title 統計処理 { display-mode: \"form\"}\n",
        "#@markdown ##サンプル質量(mg)を入力\n",
        "mass = 100 # @param {\"type\":\"number\"}\n",
        "mass_g = mass / 1000\n",
        "mass_kg = mass_g / 1000\n",
        "\n",
        "#@markdown ##シグナルの質量単位を入力\n",
        "signal_unit = \"g\" # @param [\"mg\",\"g\",\"kg\"]\n",
        "\n",
        "if signal_unit == \"g\":\n",
        "  signal_mass = mass_g\n",
        "elif signal_unit == \"kg\":\n",
        "  signal_mass = mass_kg\n",
        "else:\n",
        "  signal_mass = mass\n",
        "\n",
        "#@markdown ##信頼区間(%)を入力\n",
        "#@markdown ###※0だと標準誤差(SE)になります\n",
        "CI = 0 # @param {\"type\":\"number\"}\n",
        "\n",
        "def SE(nums, pcent=0):\n",
        "  sample_size = len(nums)\n",
        "  std_dev = np.std(nums, ddof=1)\n",
        "  std_err = std_dev / np.sqrt(sample_size)\n",
        "  if pcent == 0:\n",
        "    return std_err\n",
        "  else:\n",
        "    if pcent > 100:\n",
        "      pcent = 99.9\n",
        "    elif pcent < 0:\n",
        "      pcent = 1\n",
        "    z_score = norm.ppf(1 - (1 - pcent/100) / 2)\n",
        "    return std_err * z_score\n",
        "\n",
        "def read_mpi(file, unit=\"V\"):\n",
        "  dat = pd.read_csv(file, header=None)\n",
        "  dat = dat.T\n",
        "  n = len(dat)\n",
        "  Harmonics = pd.DataFrame(np.zeros([int(n/3), 3]) , columns=[\"base\", \"1h\", \"3h\"])\n",
        "  Harmonics[\"base\"] = dat.iloc[3*np.arange(n/3)].values\n",
        "  Harmonics[\"1h\"] = dat.iloc[3*np.arange(n/3)+1].values\n",
        "  Harmonics[\"3h\"] = dat.iloc[3*np.arange(n/3)+2].values\n",
        "  Harmonics = Harmonics.astype(float)\n",
        "  if unit == \"mV\":\n",
        "    Harmonics = Harmonics*1000\n",
        "  return Harmonics\n",
        "\n",
        "def table_mpi(files):\n",
        "  n = len(files)\n",
        "  mtable = pd.DataFrame(np.zeros([n, 4]), columns=[\"sample\", \"1h\", \"3h\", \"ratio\"])\n",
        "  mtable[\"sample\"] = [f.replace(\".csv\", \"\").replace(\"data/\", \"\") for f in files]\n",
        "  for i, file in enumerate(files):\n",
        "    dat = read_mpi(file, unit=\"mV\")\n",
        "    mtable.iloc[i, 1] = dat.mean()[\"1h\"]\n",
        "    mtable.iloc[i, 2] = dat.mean()[\"3h\"]\n",
        "    mtable.iloc[i, 3] = mtable.iloc[i, 2] / mtable.iloc[i, 1]\n",
        "  return mtable\n",
        "\n",
        "def stat_mpi(files, ci=0):\n",
        "  if len(files) < 2:\n",
        "    print(\"Too small the number of files!!\")\n",
        "    return None\n",
        "  n = len(files)\n",
        "  mtable = table_mpi(files)\n",
        "  stable = pd.DataFrame(np.zeros([1, 6]),\n",
        "                        columns=[\"1h\", \"d_1h\", \"3h\", \"d_3h\", \"ratio\", \"d_ratio\"])\n",
        "  stable[\"1h\"] = mtable[\"1h\"].mean()\n",
        "  stable[\"3h\"] = mtable[\"3h\"].mean()\n",
        "  stable[\"ratio\"] = mtable[\"ratio\"].mean()\n",
        "  stable[\"d_1h\"] = SE(mtable[\"1h\"], pcent=ci)\n",
        "  stable[\"d_3h\"] = SE(mtable[\"3h\"], pcent=ci)\n",
        "  stable[\"d_ratio\"] = SE(mtable[\"ratio\"], pcent=ci)\n",
        "  return stable\n",
        "\n",
        "result_mpi = stat_mpi(target_pathes, ci=CI)\n",
        "result_mpi[\"signal\"] = result_mpi[\"ratio\"] / signal_mass\n",
        "result_mpi[\"d_signal\"] = result_mpi[\"d_ratio\"] / signal_mass\n",
        "\n",
        "print(\"======Condition======\")\n",
        "print(\"n = {}\".format(len(target_pathes)))\n",
        "print(\"Confidence interval = {}%\".format(CI))\n",
        "print(\"Sample mass = {} mg\".format(mass))\n",
        "print(\"Signal unit = {}^-1\".format(signal_unit))\n",
        "print(\"\\n======Result======\")\n",
        "# display(result_mpi)\n",
        "display(Math(r\"\\text{{1st Harmonic}} = {:.4g} \\pm {:.2g} \\,\\text{{mV}}\".format(result_mpi[\"1h\"][0], result_mpi['d_1h'][0])))\n",
        "display(Math(r\"\\text{{3rd Harmonic}} = {:.3g} \\pm {:.1g} \\,\\text{{mV}}\".format(result_mpi[\"3h\"][0], result_mpi['d_3h'][0])))\n",
        "display(Math(r\"\\text{{Ratio}} = ( {:.3g} \\pm {:.2g} ) \\times 10^{{-3}}\".format(1000*result_mpi[\"ratio\"][0], 1000*result_mpi['d_ratio'][0])))\n",
        "display(Math(r\"\\text{{Signal}} = {:.3g} \\pm {:.2g} \\,\\text{{{}}}^{{-1}}\".format(result_mpi[\"signal\"][0], result_mpi['d_signal'][0], signal_unit)))\n",
        "\n",
        "save_path = os.path.join(\"result\", f\"{key_word}.csv\")\n",
        "result_mpi.to_csv(save_path)\n",
        "print(f\"\\nSave: {save_path}に保存しました\")"
      ],
      "metadata": {
        "id": "_OddeWux9S-V"
      },
      "execution_count": null,
      "outputs": []
    },
    {
      "cell_type": "code",
      "source": [
        "#@title 結果まとめ表を作成\n",
        "\n",
        "def read_result(file, name=\"0\"):\n",
        "  dat = pd.read_csv(file, index_col=0)\n",
        "  dat.index = [name]\n",
        "  return dat\n",
        "\n",
        "result_pathes = os.listdir(\"result\")\n",
        "result_pathes = [os.path.join(\"result\", f) for f in result_pathes]\n",
        "result_pathes = sorted(result_pathes)\n",
        "result_samples = [f.replace(\".csv\", \"\").replace(\"result/\", \"\") for f in result_pathes]\n",
        "\n",
        "results = None\n",
        "for i, result_path in enumerate(result_pathes):\n",
        "  result = read_result(result_path, name=result_samples[i])\n",
        "  if results is None:\n",
        "    results = result\n",
        "  else:\n",
        "    results = pd.concat([results, result])\n",
        "\n",
        "display(results)\n",
        "save_path = os.path.join(\"result\", \"Summary.csv\")\n",
        "results.to_csv(save_path)\n",
        "print(f\"\\nSave: {save_path}に保存しました\")"
      ],
      "metadata": {
        "cellView": "form",
        "id": "cdfOwe3aBP8S"
      },
      "execution_count": null,
      "outputs": []
    },
    {
      "cell_type": "code",
      "source": [
        "#@title `result.zip`を作成\n",
        "!zip -r result.zip result/"
      ],
      "metadata": {
        "cellView": "form",
        "id": "F33Hkp9SAS-K"
      },
      "execution_count": null,
      "outputs": []
    }
  ]
}