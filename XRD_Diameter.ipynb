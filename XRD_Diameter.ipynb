{
  "nbformat": 4,
  "nbformat_minor": 0,
  "metadata": {
    "colab": {
      "provenance": [],
      "authorship_tag": "ABX9TyNr9+Q5evi/81wSUNUeAMd7",
      "include_colab_link": true
    },
    "kernelspec": {
      "name": "python3",
      "display_name": "Python 3"
    },
    "language_info": {
      "name": "python"
    }
  },
  "cells": [
    {
      "cell_type": "markdown",
      "metadata": {
        "id": "view-in-github",
        "colab_type": "text"
      },
      "source": [
        "<a href=\"https://colab.research.google.com/github/phi1z/1yanagiLab/blob/main/XRD_Diameter.ipynb\" target=\"_parent\"><img src=\"https://colab.research.google.com/assets/colab-badge.svg\" alt=\"Open In Colab\"/></a>"
      ]
    },
    {
      "cell_type": "markdown",
      "source": [
        "# XRDの結果から粒径を計算するWebUIです\n",
        "\n",
        "## データの準備\n",
        "1.   XRDの解析ソフトで測定データを読み込みこんで下さい\n",
        "2.   最適化→**FP法**→**対数正規分布**を選択して実行ボタンを押してください\n",
        "3.   自動検索から、元素を指定して結晶相を特定してください\n",
        "4.   **ピークリストを保存**でピーク表(.csv)を保存してください\n",
        "\n",
        "## 利用方法\n",
        "\n",
        "1.   <font color= “blue”>**前提ファイルの読み込み**</font>を実行する\n",
        "2.   ディレクトリー名(`output_dir`)を入力して実行。左のフォルダーにdataなどが作成されます(**左のフォルダーアイコン**をクリックすると、エクスプローラーが開きます。フォルダーが見当たらないときは、上の<font color= “red”>**更新ボタン**</font>を押して下さい)\n",
        "3.   data/[ディレクトリー名]/に**ピーク表**(csvファイル)をアップロード。<font color= “blue”>**ファイルを確認**</font>を実行して**ファイルを選択**します\n",
        "\n",
        "4.   ピークリストを確認して、解析する結晶相を指定\n",
        "5.   結晶相のピークリストを確認して、単位(`unit_nano`)と有効数字(`sig_diameter, sd`)を設定\n",
        "6.   <font color= “blue”>**解析実行**</font>で粒径が計算されます。また、自動で`out_put`に保存されます\n",
        "\n",
        "## 結果の読み方\n",
        "\n",
        "###出力結果\n",
        "\n",
        "---\n",
        "\n",
        "| mathod |\tsize |\tsigma | 計算方法 |\n",
        "| ---- | ---- | ---- | ---- |\n",
        "| highest |\t11.1\t| 0.11 | 最も高いピークの粒径分布です |\n",
        "| average\t| 22.2\t| 0.22 | すべてのピークの平均です |\n",
        "| weight\t| 33.3\t| 0.33 | ピークの高さを重みとして加重平均を取ります |\n",
        "| weight_area\t| 44.4\t| 0.44 | 積分面積を重みとして加重平均を取ります |\n",
        "\n",
        "---\n",
        "\n",
        "※粒径は**結晶ごとに**算出しています\n"
      ],
      "metadata": {
        "id": "sdaQ8JwITEge"
      }
    },
    {
      "cell_type": "code",
      "source": [
        "#@title ##前提ファイルの読み込み (**とりあえず押して！**)\n",
        "\n",
        "!pip install ipywidgets==7.7.1\n",
        "\n",
        "from IPython.display import display\n",
        "import pandas as pd\n",
        "import numpy as np\n",
        "import os\n",
        "import ipywidgets as widgets\n",
        "\n",
        "def round_to_sig(x, sig=3):\n",
        "  return round(x, sig - int(np.floor(np.log10(abs(x)))) - 1)\n",
        "\n",
        "def read_peaks(filename):\n",
        "  peaks_raw = pd.read_csv(filename, encoding='shift_jis')\n",
        "\n",
        "  peaks = peaks_raw[ ['2θ(deg)', '高さ(cps)', '相対高さ','相対積分強度', '結晶子サイズ(Å)', 'ESD.9', '結晶相名' ] ]\n",
        "  peaks = peaks.rename(columns={'2θ(deg)':'2theta','高さ(cps)':'high', '相対高さ':'high_r', '相対積分強度':'area_r', '結晶子サイズ(Å)':'size', 'ESD.9':'size_sd','結晶相名':'name'})\n",
        "\n",
        "  peaks['name'] = peaks['name'].str.replace('),','):')\n",
        "  new_rows = []\n",
        "  for _, row in peaks.iterrows():\n",
        "    if ':' not in row['name']:\n",
        "      new_row = row.copy()\n",
        "      new_rows.append(new_row)\n",
        "    else:\n",
        "      materials = row['name'].split(':')\n",
        "      for material in materials:\n",
        "        new_row = row.copy()\n",
        "        new_row['name'] = material\n",
        "        new_rows.append(new_row)\n",
        "\n",
        "  peaks = pd.DataFrame(new_rows)\n",
        "\n",
        "  split_df = peaks['name'].str.split('(', expand=True, n=1)\n",
        "  peaks['material'] = split_df[0].str.strip()\n",
        "  # Check if all unique materials are 'Unknown'\n",
        "  if (split_df[0].unique() == 'Unknown').all():\n",
        "    peaks['hkl'] = '000' # Set 'hkl' to '000' if all materials are Unknown\n",
        "  else:\n",
        "    peaks['hkl'] = split_df[1].str.replace('\\)', '', regex=True)\n",
        "    peaks['hkl'] = peaks['hkl'].str.replace(',','')\n",
        "  peaks = peaks.drop(columns=['name'])\n",
        "  return peaks\n",
        "\n",
        "def get_max(data, mode=\"highest\"):\n",
        "  if mode == \"highest\":\n",
        "    size = data.loc[data['high_r'] == 100, 'size']\n",
        "    size = size.iloc[0]\n",
        "    sigma = data.loc[data['high_r'] == 100, 'size_sd']\n",
        "    sigma = sigma.iloc[0]\n",
        "  elif mode == \"average\":\n",
        "    size = data['size'].mean()\n",
        "    sigma = data['size_sd'].mean() / np.sqrt(len(data))\n",
        "  elif mode == \"weight\":\n",
        "    size = np.average(data['size'], weights=data['high_r'])\n",
        "    sigma = np.sqrt( ((data['size_sd'] * data['high_r']) ** 2).sum() / (data['high_r']**2).sum()) / np.sqrt(len(data))\n",
        "  elif mode == \"weight_area\":\n",
        "    size = np.average(data['size'], weights=data['area_r'])\n",
        "    sigma = np.sqrt( ((data['size_sd'] * data['area_r']) ** 2).sum() / (data['area_r']**2).sum()) / np.sqrt(len(data))\n",
        "  else:\n",
        "    raise ValueError(\"Invalid mode\")\n",
        "\n",
        "  return [size, sigma]\n",
        "\n",
        "def compare_size(file, material, sig=[1,2], mode=\"A\"):\n",
        "  data = read_peaks(file)\n",
        "  data_mat = data[data['material'] == material]\n",
        "  df = pd.DataFrame(columns=['mathod', 'size', 'sigma'])\n",
        "  for method in ['highest', 'average', 'weight', 'weight_area']:\n",
        "    size, sigma = get_max(data_mat, mode=method)\n",
        "    if mode == \"n\":\n",
        "      size = size / 10\n",
        "      sigma = sigma / 10\n",
        "    size = round(size, sig[0])\n",
        "    sigma = round_to_sig(sigma, sig[1])\n",
        "    df.loc[len(df)] = [method, size, sigma]\n",
        "  return df\n",
        "\n",
        "# 出力をクリア\n",
        "from IPython.display import clear_output\n",
        "clear_output()\n",
        "\n"
      ],
      "metadata": {
        "cellView": "form",
        "id": "ff_5B--Yh9kS"
      },
      "execution_count": 252,
      "outputs": []
    },
    {
      "cell_type": "code",
      "execution_count": null,
      "metadata": {
        "id": "UuTu7LJpC9RM"
      },
      "outputs": [],
      "source": [
        "#@title ディレクトリー名の決定 { display-mode: \"form\"}\n",
        "#@markdown ##実行ボタンを押してディレクトリー名を決定\n",
        "\n",
        "\n",
        "#@markdown ##ディレクトリー名を入力\n",
        "dir_name = \"sample\" # @param {\"type\":\"string\"}\n",
        "\n",
        "os.makedirs(\"data\", exist_ok=True)\n",
        "dir_name_ud = os.path.join(\"data\", dir_name)\n",
        "os.makedirs(dir_name_ud, exist_ok=True)\n",
        "\n",
        "print(f\"ディレクトリ名: {dir_name}\")"
      ]
    },
    {
      "cell_type": "markdown",
      "source": [
        "\n",
        "##ファイルをアップロード\n",
        "\n",
        "###`data/[dir_name]/`にピーク表(.csv)を<font color= “orange”>**アップロード**</font>して下さい\n",
        "\n"
      ],
      "metadata": {
        "id": "D0LtshQnmtzU"
      }
    },
    {
      "cell_type": "code",
      "source": [
        "#@title ファイルを確認 { display-mode: \"form\"}\n",
        "#@markdown ##1. 実行ボタンを押してファイルを確認\n",
        "#@markdown ##2. 解析するファイルを選択 (実行ボタンは押さない)\n",
        "files = os.listdir(dir_name_ud)\n",
        "files = np.sort(files)\n",
        "\n",
        "print(f\"ファイル数: {len(files)}\")\n",
        "\n",
        "# ドロップダウンリストを作成\n",
        "this_file = widgets.Dropdown(\n",
        "    options=files,\n",
        "    value=files[0],\n",
        "    description='ファイルを選択:',\n",
        "    disabled=False,\n",
        "    layout={'width': '50%', 'height': '40px'},\n",
        "    style={'description_width': 'initial'},\n",
        ")\n",
        "\n",
        "# 表示\n",
        "display(this_file)"
      ],
      "metadata": {
        "id": "hlPkhBGNcEj4"
      },
      "execution_count": null,
      "outputs": []
    },
    {
      "cell_type": "code",
      "source": [
        "#@title ピークリストを確認\n",
        "\n",
        "peaks = read_peaks(os.path.join(dir_name_ud, this_file.value))\n",
        "display(peaks)"
      ],
      "metadata": {
        "cellView": "form",
        "id": "hN0qM00SQS95"
      },
      "execution_count": null,
      "outputs": []
    },
    {
      "cell_type": "code",
      "source": [
        "#@title 結晶相を決定\n",
        "#@markdown ##1. 実行ボタンを押して結晶相を選択\n",
        "#@markdown ##2. 解析する結晶相を選択 (実行ボタンは押さない)\n",
        "\n",
        "peaks = read_peaks(os.path.join(dir_name_ud, this_file.value))\n",
        "materials = np.sort(peaks['material'].astype(str).unique())\n",
        "\n",
        "print(f\"結晶相数: {len(materials)}\")\n",
        "for i,material in enumerate(materials):\n",
        "  print(f\"{i+1}: {material}\")\n",
        "\n",
        "# ドロップダウンリストを作成\n",
        "this_material = widgets.Dropdown(\n",
        "    options=materials,\n",
        "    value=materials[0],\n",
        "    description='選択:',\n",
        "    disabled=False,\n",
        "    layout={'width': '50%', 'height': '40px'},\n",
        "    style={'description_width': 'initial'},\n",
        ")\n",
        "\n",
        "# 表示\n",
        "display(this_material)"
      ],
      "metadata": {
        "cellView": "form",
        "id": "ym-1sD2YncH9"
      },
      "execution_count": null,
      "outputs": []
    },
    {
      "cell_type": "code",
      "source": [
        "#@title 結晶相のピークリストを確認\n",
        "\n",
        "peaks = peaks[peaks['material'] == this_material.value]\n",
        "display(peaks)"
      ],
      "metadata": {
        "cellView": "form",
        "id": "SIGFHZpMQuWj"
      },
      "execution_count": null,
      "outputs": []
    },
    {
      "cell_type": "code",
      "source": [
        "#@title ##オプション { display-mode: \"form\" , run: \"auto\"}\n",
        "\n",
        "#@markdown ##1. 単位をナノメートル(nm)に\n",
        "\n",
        "unit_nano = True # @param {\"type\":\"boolean\"}\n",
        "unit = \"A\"\n",
        "if unit_nano:\n",
        "  unit = \"n\"\n",
        "#@markdown ---\n",
        "#@markdown ##2. 有効数字と桁数\n",
        "#@markdown ###粒径の最小位桁\n",
        "sig_diameter = 1 # @param {\"type\":\"integer\"}\n",
        "\n",
        "#@markdown ###分散の有効数字\n",
        "sig_sd = 2 # @param {\"type\":\"integer\"}\n",
        "\n",
        "Sig = [sig_diameter, sig_sd]\n",
        "\n",
        "unit_text = \"オングストローム(Å)\"\n",
        "if unit == \"n\":\n",
        "  unit_text = \"ナノメートル(nm)\"\n",
        "\n",
        "print(f\"単位: {unit_text}\")\n",
        "print(f\"粒径の最小位桁: {sig_diameter}\")\n",
        "print(f\"分散の有効数字: {sig_sd}\")"
      ],
      "metadata": {
        "id": "dWM7JVAZiYp-"
      },
      "execution_count": null,
      "outputs": []
    },
    {
      "cell_type": "code",
      "source": [
        "#@title 解析実行\n",
        "\n",
        "table = compare_size(os.path.join(dir_name_ud, this_file.value), this_material.value, sig=Sig, mode=unit)\n",
        "\n",
        "print(\"===計算条件===\")\n",
        "print(f\"ファイル名: {this_file.value}\")\n",
        "print(f\"結晶相: {this_material.value}\")\n",
        "print(f\"単位: {unit_text}\")\n",
        "print(f\"粒径の最小位桁: {sig_diameter}\")\n",
        "print(f\"分散の有効数字: {sig_sd}\\n\")\n",
        "\n",
        "print(\"===ファイル保存===\")\n",
        "os.makedirs(\"output\", exist_ok=True)\n",
        "file_name = os.path.join(\"output\", f\"Diameter_{this_file.value.replace('.csv','')}_{this_material.value}.csv\")\n",
        "table.to_csv(file_name, index=False)\n",
        "print(f\"保存先: {file_name}\\n\")\n",
        "\n",
        "print(\"===解析結果===\")\n",
        "display(table)\n"
      ],
      "metadata": {
        "cellView": "form",
        "id": "3bvSmuOXixuQ"
      },
      "execution_count": null,
      "outputs": []
    }
  ]
}