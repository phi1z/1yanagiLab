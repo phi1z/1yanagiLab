{
  "nbformat": 4,
  "nbformat_minor": 0,
  "metadata": {
    "colab": {
      "provenance": [],
      "include_colab_link": true
    },
    "kernelspec": {
      "name": "python3",
      "display_name": "Python 3"
    },
    "language_info": {
      "name": "python"
    }
  },
  "cells": [
    {
      "cell_type": "markdown",
      "metadata": {
        "id": "view-in-github",
        "colab_type": "text"
      },
      "source": [
        "<a href=\"https://colab.research.google.com/github/phi1z/1yanagiLab/blob/main/SAR.ipynb\" target=\"_parent\"><img src=\"https://colab.research.google.com/assets/colab-badge.svg\" alt=\"Open In Colab\"/></a>"
      ]
    },
    {
      "cell_type": "markdown",
      "source": [
        "# 昇温実験から比吸収率(SAR)を計算するWebUIです\n",
        "\n",
        "## 利用方法\n",
        "\n",
        "1.   <font color= “blue”>**前提ファイルの読み込み**</font>を実行する\n",
        "2.   ディレクトリー名(`output_dir`)を入力して実行。左のフォルダーにdataなどが作成されます(**左のフォルダーアイコン**をクリックすると、エクスプローラーが開きます。フォルダーが見当たらないときは、上の<font color= “red”>**更新ボタン**</font>を押して下さい)\n",
        "3.   data/[ディレクトリー名]/に**測定データ**(txtファイル)をアップロード。<font color= “blue”>**ファイルを確認**</font>を実行して**ファイルを選択**します\n",
        "\n",
        "4.   表とグラフを確認して、データが正常に読み込めているか確認\n",
        "5.   初期値(`a,b,k`)を設定してフィッティングを開始。正しくフィッティングできているか確認\n",
        "6.   試料比熱`C`と誤差`C_sigma`を入力して、<font color= “blue”>**比吸収率(SAR)の計算**</font>でSARが計算されます。また、自動で`out_put`に保存されます\n",
        "\n",
        "## 結果の読み方\n",
        "* $R^2$ …… 決定係数。1に近づくほどフィッティングの結果が良い\n",
        "* $\\chi^2$ …… カイ二乗値。フィッティング結果が正しい時の測定誤差の二乗総和\n",
        "* $P$ …… P値。フィッティングが偶然**ではない**確率\n",
        "* $COV(\\sigma_{ij})$ …… 共分散行列。パラメーター同士の分散と共分散をまとめたもの\n",
        "* $SAR$ …… 比吸収率。単位は W/g です。\n",
        "\n",
        "## その他機能\n",
        "フィッティングしたグラフを編集して保存できます。ファイルは`graph/`に保存されます"
      ],
      "metadata": {
        "id": "7WZtv1OzkbNY"
      }
    },
    {
      "cell_type": "code",
      "source": [
        "#@title ##前提ファイルの読み込み (**とりあえず押して！**)\n",
        "\n",
        "!pip install ipywidgets==7.7.1\n",
        "\n",
        "import pandas as pd\n",
        "import numpy as np\n",
        "import os\n",
        "import matplotlib.pyplot as plt\n",
        "from datetime import datetime\n",
        "import ipywidgets as widgets\n",
        "from IPython.display import display\n",
        "from scipy.optimize import curve_fit\n",
        "\n",
        "def count_decimal_places(text):\n",
        "    if '.' in text:\n",
        "        return len(text.split('.')[-1])\n",
        "    else:\n",
        "        return 0\n",
        "\n",
        "from IPython.display import clear_output\n",
        "clear_output()\n",
        "print(\"前提ファイルの読み込みが完了しました\")"
      ],
      "metadata": {
        "cellView": "form",
        "id": "d1gypUvrwdYl",
        "colab": {
          "base_uri": "https://localhost:8080/"
        },
        "outputId": "dfc04146-f063-4c76-8634-10c6caf129a9"
      },
      "execution_count": null,
      "outputs": [
        {
          "output_type": "stream",
          "name": "stdout",
          "text": [
            "前提ファイルの読み込みが完了しました\n"
          ]
        }
      ]
    },
    {
      "cell_type": "code",
      "execution_count": null,
      "metadata": {
        "id": "PAhhp4wdlRbc"
      },
      "outputs": [],
      "source": [
        "#@title ディレクトリー名の決定 { display-mode: \"form\"}\n",
        "#@markdown ##実行ボタンを押してディレクトリー名を決定\n",
        "\n",
        "\n",
        "#@markdown ###ディレクトリー名を入力\n",
        "dir_name = \"small\" # @param {\"type\":\"string\"}\n",
        "\n",
        "os.makedirs(\"data\", exist_ok=True)\n",
        "dir_name_ud = os.path.join(\"data\", dir_name)\n",
        "os.makedirs(dir_name_ud, exist_ok=True)\n",
        "\n",
        "print(f\"ディレクトリ名: {dir_name}\")"
      ]
    },
    {
      "cell_type": "markdown",
      "source": [
        "\n",
        "##ファイルをアップロード\n",
        "\n",
        "###`data/[dir_name]/`に測定データ(.txt)を<font color= “orange”>**アップロード**</font>して下さい\n",
        "\n"
      ],
      "metadata": {
        "id": "aZABDqJNv40Y"
      }
    },
    {
      "cell_type": "code",
      "source": [
        "#@title ファイルを確認 { display-mode: \"form\"}\n",
        "#@markdown ##1. 実行ボタンを押してファイルを確認\n",
        "#@markdown ##2. 解析するファイルを選択 (実行ボタンは押さない)\n",
        "\n",
        "files = os.listdir(dir_name_ud)\n",
        "files = np.sort(files)\n",
        "\n",
        "print(f\"ファイル数: {len(files)}\")\n",
        "\n",
        "# ドロップダウンリストを作成\n",
        "this_file = widgets.Dropdown(\n",
        "    options=files,\n",
        "    value=files[0],\n",
        "    description='ファイルを選択:',\n",
        "    disabled=False,\n",
        "    layout={'width': '50%', 'height': '40px'},\n",
        "    style={'description_width': 'initial'},\n",
        ")\n",
        "\n",
        "# 表示\n",
        "display(this_file)"
      ],
      "metadata": {
        "id": "bb01v7O7v_8R"
      },
      "execution_count": null,
      "outputs": []
    },
    {
      "source": [
        "#@title ##ファイルの読み込み\n",
        "#@markdown ###正常に読み込まれているか**表**と**グラフ**を確認してください\n",
        "\n",
        "def read_data(filename):\n",
        "  with open(filename, 'r') as f:\n",
        "      lines = f.readlines()\n",
        "\n",
        "  with open('temp.txt', 'w') as f:\n",
        "      f.writelines(lines[19:])\n",
        "\n",
        "  df = pd.read_csv('temp.txt', delimiter='\\t')\n",
        "\n",
        "  df = df.drop(columns=df.columns[-1])\n",
        "  df.columns = [\"Time\", \"Temperature\"]\n",
        "\n",
        "  # Convert the 'Time' column to datetime objects, handling potential errors\n",
        "  time_obj = pd.to_datetime(df['Time'], format=\"%H:%M:%S.%f\", errors='coerce')\n",
        "  # Calculate total seconds since 1900-01-01 for each time entry\n",
        "  df['Time'] = (time_obj - datetime(1900, 1, 1)).dt.total_seconds()\n",
        "\n",
        "  return df\n",
        "\n",
        "def offset_row(data, row, initial=0):\n",
        "  initial_value = data[row].iloc[0]\n",
        "  data[row] = data[row] - initial_value + initial\n",
        "  return data\n",
        "\n",
        "file_path = os.path.join(dir_name_ud, this_file.value)\n",
        "file_name = os.path.basename(file_path)\n",
        "file_name = os.path.splitext(file_name)[0]\n",
        "\n",
        "df = read_data(file_path)\n",
        "df = offset_row(df, \"Temperature\", 37)\n",
        "\n",
        "display(df.head())\n",
        "\n",
        "df.plot(x='Time', y='Temperature', label=file_name)\n",
        "\n",
        "plt.title('Temperature over Time')\n",
        "plt.xlabel('Time (s)')\n",
        "plt.ylabel('Temperature (degree)')\n",
        "\n",
        "plt.legend()\n",
        "\n",
        "plt.show()\n",
        "\n"
      ],
      "cell_type": "code",
      "metadata": {
        "cellView": "form",
        "id": "9Zswf93JlX-z",
        "colab": {
          "base_uri": "https://localhost:8080/",
          "height": 661
        },
        "outputId": "cdb81d4a-6e33-44c9-9687-9f3d6fb661e8"
      },
      "execution_count": null,
      "outputs": [
        {
          "output_type": "display_data",
          "data": {
            "text/plain": [
              "   Time  Temperature\n",
              "0   0.1        37.00\n",
              "1   0.2        37.05\n",
              "2   0.3        37.05\n",
              "3   0.4        37.05\n",
              "4   0.5        37.15"
            ],
            "text/html": [
              "\n",
              "  <div id=\"df-3becd7d5-8c5d-4077-89bb-b0261507e0a0\" class=\"colab-df-container\">\n",
              "    <div>\n",
              "<style scoped>\n",
              "    .dataframe tbody tr th:only-of-type {\n",
              "        vertical-align: middle;\n",
              "    }\n",
              "\n",
              "    .dataframe tbody tr th {\n",
              "        vertical-align: top;\n",
              "    }\n",
              "\n",
              "    .dataframe thead th {\n",
              "        text-align: right;\n",
              "    }\n",
              "</style>\n",
              "<table border=\"1\" class=\"dataframe\">\n",
              "  <thead>\n",
              "    <tr style=\"text-align: right;\">\n",
              "      <th></th>\n",
              "      <th>Time</th>\n",
              "      <th>Temperature</th>\n",
              "    </tr>\n",
              "  </thead>\n",
              "  <tbody>\n",
              "    <tr>\n",
              "      <th>0</th>\n",
              "      <td>0.1</td>\n",
              "      <td>37.00</td>\n",
              "    </tr>\n",
              "    <tr>\n",
              "      <th>1</th>\n",
              "      <td>0.2</td>\n",
              "      <td>37.05</td>\n",
              "    </tr>\n",
              "    <tr>\n",
              "      <th>2</th>\n",
              "      <td>0.3</td>\n",
              "      <td>37.05</td>\n",
              "    </tr>\n",
              "    <tr>\n",
              "      <th>3</th>\n",
              "      <td>0.4</td>\n",
              "      <td>37.05</td>\n",
              "    </tr>\n",
              "    <tr>\n",
              "      <th>4</th>\n",
              "      <td>0.5</td>\n",
              "      <td>37.15</td>\n",
              "    </tr>\n",
              "  </tbody>\n",
              "</table>\n",
              "</div>\n",
              "    <div class=\"colab-df-buttons\">\n",
              "\n",
              "  <div class=\"colab-df-container\">\n",
              "    <button class=\"colab-df-convert\" onclick=\"convertToInteractive('df-3becd7d5-8c5d-4077-89bb-b0261507e0a0')\"\n",
              "            title=\"Convert this dataframe to an interactive table.\"\n",
              "            style=\"display:none;\">\n",
              "\n",
              "  <svg xmlns=\"http://www.w3.org/2000/svg\" height=\"24px\" viewBox=\"0 -960 960 960\">\n",
              "    <path d=\"M120-120v-720h720v720H120Zm60-500h600v-160H180v160Zm220 220h160v-160H400v160Zm0 220h160v-160H400v160ZM180-400h160v-160H180v160Zm440 0h160v-160H620v160ZM180-180h160v-160H180v160Zm440 0h160v-160H620v160Z\"/>\n",
              "  </svg>\n",
              "    </button>\n",
              "\n",
              "  <style>\n",
              "    .colab-df-container {\n",
              "      display:flex;\n",
              "      gap: 12px;\n",
              "    }\n",
              "\n",
              "    .colab-df-convert {\n",
              "      background-color: #E8F0FE;\n",
              "      border: none;\n",
              "      border-radius: 50%;\n",
              "      cursor: pointer;\n",
              "      display: none;\n",
              "      fill: #1967D2;\n",
              "      height: 32px;\n",
              "      padding: 0 0 0 0;\n",
              "      width: 32px;\n",
              "    }\n",
              "\n",
              "    .colab-df-convert:hover {\n",
              "      background-color: #E2EBFA;\n",
              "      box-shadow: 0px 1px 2px rgba(60, 64, 67, 0.3), 0px 1px 3px 1px rgba(60, 64, 67, 0.15);\n",
              "      fill: #174EA6;\n",
              "    }\n",
              "\n",
              "    .colab-df-buttons div {\n",
              "      margin-bottom: 4px;\n",
              "    }\n",
              "\n",
              "    [theme=dark] .colab-df-convert {\n",
              "      background-color: #3B4455;\n",
              "      fill: #D2E3FC;\n",
              "    }\n",
              "\n",
              "    [theme=dark] .colab-df-convert:hover {\n",
              "      background-color: #434B5C;\n",
              "      box-shadow: 0px 1px 3px 1px rgba(0, 0, 0, 0.15);\n",
              "      filter: drop-shadow(0px 1px 2px rgba(0, 0, 0, 0.3));\n",
              "      fill: #FFFFFF;\n",
              "    }\n",
              "  </style>\n",
              "\n",
              "    <script>\n",
              "      const buttonEl =\n",
              "        document.querySelector('#df-3becd7d5-8c5d-4077-89bb-b0261507e0a0 button.colab-df-convert');\n",
              "      buttonEl.style.display =\n",
              "        google.colab.kernel.accessAllowed ? 'block' : 'none';\n",
              "\n",
              "      async function convertToInteractive(key) {\n",
              "        const element = document.querySelector('#df-3becd7d5-8c5d-4077-89bb-b0261507e0a0');\n",
              "        const dataTable =\n",
              "          await google.colab.kernel.invokeFunction('convertToInteractive',\n",
              "                                                    [key], {});\n",
              "        if (!dataTable) return;\n",
              "\n",
              "        const docLinkHtml = 'Like what you see? Visit the ' +\n",
              "          '<a target=\"_blank\" href=https://colab.research.google.com/notebooks/data_table.ipynb>data table notebook</a>'\n",
              "          + ' to learn more about interactive tables.';\n",
              "        element.innerHTML = '';\n",
              "        dataTable['output_type'] = 'display_data';\n",
              "        await google.colab.output.renderOutput(dataTable, element);\n",
              "        const docLink = document.createElement('div');\n",
              "        docLink.innerHTML = docLinkHtml;\n",
              "        element.appendChild(docLink);\n",
              "      }\n",
              "    </script>\n",
              "  </div>\n",
              "\n",
              "\n",
              "<div id=\"df-d3b84335-2618-4f17-af62-bfe31ef7ce07\">\n",
              "  <button class=\"colab-df-quickchart\" onclick=\"quickchart('df-d3b84335-2618-4f17-af62-bfe31ef7ce07')\"\n",
              "            title=\"Suggest charts\"\n",
              "            style=\"display:none;\">\n",
              "\n",
              "<svg xmlns=\"http://www.w3.org/2000/svg\" height=\"24px\"viewBox=\"0 0 24 24\"\n",
              "     width=\"24px\">\n",
              "    <g>\n",
              "        <path d=\"M19 3H5c-1.1 0-2 .9-2 2v14c0 1.1.9 2 2 2h14c1.1 0 2-.9 2-2V5c0-1.1-.9-2-2-2zM9 17H7v-7h2v7zm4 0h-2V7h2v10zm4 0h-2v-4h2v4z\"/>\n",
              "    </g>\n",
              "</svg>\n",
              "  </button>\n",
              "\n",
              "<style>\n",
              "  .colab-df-quickchart {\n",
              "      --bg-color: #E8F0FE;\n",
              "      --fill-color: #1967D2;\n",
              "      --hover-bg-color: #E2EBFA;\n",
              "      --hover-fill-color: #174EA6;\n",
              "      --disabled-fill-color: #AAA;\n",
              "      --disabled-bg-color: #DDD;\n",
              "  }\n",
              "\n",
              "  [theme=dark] .colab-df-quickchart {\n",
              "      --bg-color: #3B4455;\n",
              "      --fill-color: #D2E3FC;\n",
              "      --hover-bg-color: #434B5C;\n",
              "      --hover-fill-color: #FFFFFF;\n",
              "      --disabled-bg-color: #3B4455;\n",
              "      --disabled-fill-color: #666;\n",
              "  }\n",
              "\n",
              "  .colab-df-quickchart {\n",
              "    background-color: var(--bg-color);\n",
              "    border: none;\n",
              "    border-radius: 50%;\n",
              "    cursor: pointer;\n",
              "    display: none;\n",
              "    fill: var(--fill-color);\n",
              "    height: 32px;\n",
              "    padding: 0;\n",
              "    width: 32px;\n",
              "  }\n",
              "\n",
              "  .colab-df-quickchart:hover {\n",
              "    background-color: var(--hover-bg-color);\n",
              "    box-shadow: 0 1px 2px rgba(60, 64, 67, 0.3), 0 1px 3px 1px rgba(60, 64, 67, 0.15);\n",
              "    fill: var(--button-hover-fill-color);\n",
              "  }\n",
              "\n",
              "  .colab-df-quickchart-complete:disabled,\n",
              "  .colab-df-quickchart-complete:disabled:hover {\n",
              "    background-color: var(--disabled-bg-color);\n",
              "    fill: var(--disabled-fill-color);\n",
              "    box-shadow: none;\n",
              "  }\n",
              "\n",
              "  .colab-df-spinner {\n",
              "    border: 2px solid var(--fill-color);\n",
              "    border-color: transparent;\n",
              "    border-bottom-color: var(--fill-color);\n",
              "    animation:\n",
              "      spin 1s steps(1) infinite;\n",
              "  }\n",
              "\n",
              "  @keyframes spin {\n",
              "    0% {\n",
              "      border-color: transparent;\n",
              "      border-bottom-color: var(--fill-color);\n",
              "      border-left-color: var(--fill-color);\n",
              "    }\n",
              "    20% {\n",
              "      border-color: transparent;\n",
              "      border-left-color: var(--fill-color);\n",
              "      border-top-color: var(--fill-color);\n",
              "    }\n",
              "    30% {\n",
              "      border-color: transparent;\n",
              "      border-left-color: var(--fill-color);\n",
              "      border-top-color: var(--fill-color);\n",
              "      border-right-color: var(--fill-color);\n",
              "    }\n",
              "    40% {\n",
              "      border-color: transparent;\n",
              "      border-right-color: var(--fill-color);\n",
              "      border-top-color: var(--fill-color);\n",
              "    }\n",
              "    60% {\n",
              "      border-color: transparent;\n",
              "      border-right-color: var(--fill-color);\n",
              "    }\n",
              "    80% {\n",
              "      border-color: transparent;\n",
              "      border-right-color: var(--fill-color);\n",
              "      border-bottom-color: var(--fill-color);\n",
              "    }\n",
              "    90% {\n",
              "      border-color: transparent;\n",
              "      border-bottom-color: var(--fill-color);\n",
              "    }\n",
              "  }\n",
              "</style>\n",
              "\n",
              "  <script>\n",
              "    async function quickchart(key) {\n",
              "      const quickchartButtonEl =\n",
              "        document.querySelector('#' + key + ' button');\n",
              "      quickchartButtonEl.disabled = true;  // To prevent multiple clicks.\n",
              "      quickchartButtonEl.classList.add('colab-df-spinner');\n",
              "      try {\n",
              "        const charts = await google.colab.kernel.invokeFunction(\n",
              "            'suggestCharts', [key], {});\n",
              "      } catch (error) {\n",
              "        console.error('Error during call to suggestCharts:', error);\n",
              "      }\n",
              "      quickchartButtonEl.classList.remove('colab-df-spinner');\n",
              "      quickchartButtonEl.classList.add('colab-df-quickchart-complete');\n",
              "    }\n",
              "    (() => {\n",
              "      let quickchartButtonEl =\n",
              "        document.querySelector('#df-d3b84335-2618-4f17-af62-bfe31ef7ce07 button');\n",
              "      quickchartButtonEl.style.display =\n",
              "        google.colab.kernel.accessAllowed ? 'block' : 'none';\n",
              "    })();\n",
              "  </script>\n",
              "</div>\n",
              "\n",
              "    </div>\n",
              "  </div>\n"
            ],
            "application/vnd.google.colaboratory.intrinsic+json": {
              "type": "dataframe",
              "summary": "{\n  \"name\": \"plt\",\n  \"rows\": 5,\n  \"fields\": [\n    {\n      \"column\": \"Time\",\n      \"properties\": {\n        \"dtype\": \"number\",\n        \"std\": 0.15811388300841897,\n        \"min\": 0.1,\n        \"max\": 0.5,\n        \"num_unique_values\": 5,\n        \"samples\": [\n          0.2,\n          0.5,\n          0.3\n        ],\n        \"semantic_type\": \"\",\n        \"description\": \"\"\n      }\n    },\n    {\n      \"column\": \"Temperature\",\n      \"properties\": {\n        \"dtype\": \"number\",\n        \"std\": 0.05477225575051642,\n        \"min\": 37.0,\n        \"max\": 37.15,\n        \"num_unique_values\": 3,\n        \"samples\": [\n          37.0,\n          37.05,\n          37.15\n        ],\n        \"semantic_type\": \"\",\n        \"description\": \"\"\n      }\n    }\n  ]\n}"
            }
          },
          "metadata": {}
        },
        {
          "output_type": "display_data",
          "data": {
            "text/plain": [
              "<Figure size 640x480 with 1 Axes>"
            ],
            "image/png": "[encoded data removed]"
          },
          "metadata": {}
        }
      ]
    },
    {
      "source": [
        "# @title ##関数でフィッティング\n",
        "\n",
        "#@markdown フィッティングする関数は、\n",
        "#@markdown $$T(t) = a - b \\exp \\left( -k\\times t \\right)$$\n",
        "#@markdown $T\\cdots$温度 [℃]、$t\\cdots$時間 [s]、\n",
        "#@markdown $a\\cdots$換算初期温度 [℃]、$b\\cdots$上昇温度 [K]、$k\\cdots$温度上昇率 [K/s]\n",
        "\n",
        "#@markdown ##1. 初期値を設定\n",
        "\n",
        "from IPython.display import Math\n",
        "from scipy.stats import chisquare\n",
        "\n",
        "a = 36 # @param {\"type\":\"number\"}\n",
        "b = 0.5 # @param {\"type\":\"number\"}\n",
        "k = 0.1 # @param {\"type\":\"number\"}\n",
        "\n",
        "#@markdown ※フィッティングが上手くいかない場合は変更してください\n",
        "\n",
        "\n",
        "def exponential_func(x, a, b, k):\n",
        "       return a - b * np.exp(-k * x)\n",
        "\n",
        "def square_error_d2f(x, y, func, param):\n",
        "    y2 = func(x, *param)\n",
        "    sse = np.sum((y-y2)**2)\n",
        "    sst = np.sum((y-np.mean(y))**2)\n",
        "    return 1 - sse/sst\n",
        "\n",
        "def chi_square_d2f(x, y, func, param):\n",
        "    y2 = func(x, *param)\n",
        "    chi2, p = chisquare(y, f_exp=y2, ddof=len(param)-1)\n",
        "    return chi2, p\n",
        "\n",
        "initial_guess = [a, b, k]\n",
        "popt, pcov = curve_fit(exponential_func, df['Time'], df['Temperature'], p0=initial_guess)\n",
        "disp_popt = [\"\"]*3\n",
        "decimals = [1, 2, 4]\n",
        "for i , p in enumerate(popt):\n",
        "  disp_popt[i] = f\"{p:.{decimals[i]}f}\"\n",
        "sigmas = np.sqrt(np.diag(pcov))\n",
        "disp_sigmas = [\"\"]*3\n",
        "for i , p in enumerate(sigmas):\n",
        "  disp_sigmas[i] = f\"{p:.{count_decimal_places(disp_popt[i])}f}\"\n",
        "\n",
        "ROC = square_error_d2f(df['Time'], df['Temperature'], exponential_func, popt)\n",
        "ROC_disp = f\"{ROC:.4g}\"\n",
        "chi_square, p_value = chi_square_d2f(df['Time'], df['Temperature'], exponential_func, popt)\n",
        "chi_square = f\"{chi_square:.4g}\"\n",
        "p_value = f\"{p_value:.4g}\"\n",
        "\n",
        "delta_T = df['Temperature'].iloc[-1] - df['Temperature'].iloc[0]\n",
        "delta_TB = abs(delta_T - popt[1])\n",
        "delta_TB = f\"{delta_TB:.4g}\"\n",
        "\n",
        "print(\"===Result===\")\n",
        "\n",
        "display(Math(r'$R^2 = {roc}$'.format(roc=ROC_disp)))\n",
        "display(Math(r'$\\chi^2 = {chi_sq}$'.format(chi_sq=chi_square)))\n",
        "display(Math(r'$P = {p}$'.format(p=p_value)))\n",
        "display(Math(r'$COV(\\sigma_{ij}) = $'))\n",
        "print(pcov)\n",
        "\n",
        "print(\"\\n===Fit Parameters===\")\n",
        "display(Math(r'$a = {pa} \\pm {sa} {{}}^\\circ\\mathrm{{C}}$'.format(pa=disp_popt[0], sa=disp_sigmas[0])))\n",
        "display(Math(r'$b = {pb} \\pm {sb} {{}}^\\circ\\mathrm{{C}}$'.format(pb=disp_popt[1], sb=disp_sigmas[1])))\n",
        "display(Math(r'$k = {pk} \\pm {sk} \\:\\mathrm{{K/s}}$'.format(pk=disp_popt[2], sk=disp_sigmas[2])))\n",
        "display(Math(r'$\\left| \\Delta T - b \\right| = {db} \\:\\mathrm{{K}}$'.format(db=delta_TB)))\n",
        "\n",
        "print(\"\\n===Graph===\")\n",
        "\n",
        "fit_x = np.linspace(df['Time'].min(), df['Time'].max(), 100)\n",
        "fit_y = exponential_func(fit_x, *popt)\n",
        "fit_y_ts = exponential_func(df['Time'], *popt)\n",
        "\n",
        "plt.plot(df['Time'], df['Temperature'], 'o-', label='data',\n",
        "         linewidth=1, markersize=2\n",
        "         )\n",
        "plt.plot(fit_x, fit_y, '-', label='fit', linewidth=2)\n",
        "\n",
        "plt.title('Temperature over Time')\n",
        "plt.xlabel('Time (s)')\n",
        "plt.ylabel('Temperature (degree)')\n",
        "\n",
        "plt.legend()\n",
        "\n",
        "plt.show()"
      ],
      "cell_type": "code",
      "metadata": {
        "cellView": "form",
        "id": "y9fzjZL-zLr7",
        "colab": {
          "base_uri": "https://localhost:8080/",
          "height": 793
        },
        "outputId": "bebc34b2-132a-48bd-b89a-ac0e7b3150f0"
      },
      "execution_count": null,
      "outputs": [
        {
          "output_type": "stream",
          "name": "stdout",
          "text": [
            "===Result===\n"
          ]
        },
        {
          "output_type": "display_data",
          "data": {
            "text/plain": [
              "<IPython.core.display.Math object>"
            ],
            "text/latex": "$\\displaystyle R^2 = 0.919$"
          },
          "metadata": {}
        },
        {
          "output_type": "display_data",
          "data": {
            "text/plain": [
              "<IPython.core.display.Math object>"
            ],
            "text/latex": "$\\displaystyle \\chi^2 = 0.9431$"
          },
          "metadata": {}
        },
        {
          "output_type": "display_data",
          "data": {
            "text/plain": [
              "<IPython.core.display.Math object>"
            ],
            "text/latex": "$\\displaystyle P = 1$"
          },
          "metadata": {}
        },
        {
          "output_type": "display_data",
          "data": {
            "text/plain": [
              "<IPython.core.display.Math object>"
            ],
            "text/latex": "$\\displaystyle COV(\\sigma_{ij}) = $"
          },
          "metadata": {}
        },
        {
          "output_type": "stream",
          "name": "stdout",
          "text": [
            "[[ 8.83852825e-05  4.93290425e-05 -1.41744567e-06]\n",
            " [ 4.93290425e-05  7.17348807e-05 -5.04952483e-07]\n",
            " [-1.41744567e-06 -5.04952483e-07  2.62491556e-08]]\n",
            "\n",
            "===Fit Parameters===\n"
          ]
        },
        {
          "output_type": "display_data",
          "data": {
            "text/plain": [
              "<IPython.core.display.Math object>"
            ],
            "text/latex": "$\\displaystyle a = 38.6 \\pm 0.0 {}^\\circ\\mathrm{C}$"
          },
          "metadata": {}
        },
        {
          "output_type": "display_data",
          "data": {
            "text/plain": [
              "<IPython.core.display.Math object>"
            ],
            "text/latex": "$\\displaystyle b = 1.45 \\pm 0.01 {}^\\circ\\mathrm{C}$"
          },
          "metadata": {}
        },
        {
          "output_type": "display_data",
          "data": {
            "text/plain": [
              "<IPython.core.display.Math object>"
            ],
            "text/latex": "$\\displaystyle k = 0.0087 \\pm 0.0002 \\:\\mathrm{K/s}$"
          },
          "metadata": {}
        },
        {
          "output_type": "display_data",
          "data": {
            "text/plain": [
              "<IPython.core.display.Math object>"
            ],
            "text/latex": "$\\displaystyle \\left| \\Delta T - b \\right| = 0.09804 \\:\\mathrm{K}$"
          },
          "metadata": {}
        },
        {
          "output_type": "stream",
          "name": "stdout",
          "text": [
            "\n",
            "===Graph===\n"
          ]
        },
        {
          "output_type": "display_data",
          "data": {
            "text/plain": [
              "<Figure size 640x480 with 1 Axes>"
            ],
            "image/png": "[encoded data removed]"
          },
          "metadata": {}
        }
      ]
    },
    {
      "cell_type": "code",
      "source": [
        "#@title 比吸収率(SAR)の計算\n",
        "#@markdown ### 比吸収率(SAR)は以下の式で与えられます\n",
        "#@markdown $$SAR = C \\times \\Delta T \\times k$$\n",
        "#@markdown $C\\cdots$試料の比熱 [J/(K$\\cdot$g)]]、$\\Delta T\\cdots$上昇温度[K]、$k\\cdots$温度上昇率 [K/s]\n",
        "\n",
        "#@markdown ※温度上昇率は実際のデータ、もしくは以下の式から求まります\n",
        "#@markdown $$ \\Delta T = T(t\\to\\infty) - T(0) = a - (a - b) = b $$\n",
        "\n",
        "#@markdown ##1. 試料の比熱を入力\n",
        "#@markdown ※単位は **J/g** で入力してください\n",
        "\n",
        "#@markdown ※誤差は`C_sigma`に書いてください\n",
        "\n",
        "C = 4.178 # @param {\"type\":\"number\"}\n",
        "C_sigma = 0 # @param {\"type\":\"number\"}\n",
        "\n",
        "#@markdown ##2. 温度上昇の定義\n",
        "#@markdown 実際の温度上昇$\\Delta T$で計算する場合はチェック\n",
        "\n",
        "delta_T_check = False # @param {type:\"boolean\"}\n",
        "\n",
        "del_T = popt[1]\n",
        "del_T_sigma = sigmas[1]\n",
        "if delta_T_check:\n",
        "  del_T = delta_T\n",
        "  del_T_sigma = 2 * np.sqrt(np.sum((df['Temperature'] - fit_y_ts)**2)) / len(df['Temperature'])\n",
        "\n",
        "SAR = C * del_T * popt[2]\n",
        "SAR = f\"{SAR:.3g}\"\n",
        "\n",
        "SAR_sigma = np.sqrt( del_T_sigma**2 * C * popt[2] + sigmas[2]**2 * C * popt[1] + C_sigma ** 2 * popt[1] * popt[2] )\n",
        "SAR_sigma = f\"{SAR_sigma:.{count_decimal_places(SAR)}f}\"\n",
        "\n",
        "print(\"===Result===\")\n",
        "display(Math(r'$SAR = {sar} \\pm {sar_sd} \\:\\mathrm{{W/g}}$'.format(sar=SAR, sar_sd=SAR_sigma)))\n",
        "\n",
        "print(\"\\n===Save===\")\n",
        "os.makedirs(\"out_put\", exist_ok=True)\n",
        "out_put = os.path.join(\"out_put\", f\"{file_name}_result.txt\")\n",
        "out_text = f\"===SAR===\\n\"\n",
        "out_text += f\"SAR = {SAR} ± {SAR_sigma} W/g\\n\"\n",
        "out_text += f\"n===Fit Parameters===\\n\"\n",
        "out_text += f\"a = {disp_popt[0]} ± {disp_sigmas[0]} ℃\\n\"\n",
        "out_text += f\"b = {disp_popt[1]} ± {disp_sigmas[1]} ℃\\n\"\n",
        "out_text += f\"k = {disp_popt[2]} ± {disp_sigmas[2]} K/s\\n\"\n",
        "out_text += f\"\\n===Fitting Result===\\n\"\n",
        "out_text += f\"R^2 = {ROC_disp}\\n\"\n",
        "out_text += f\"χ^2 = {chi_square}\\n\"\n",
        "out_text += f\"P = {p_value}\\n\"\n",
        "\n",
        "with open(out_put, mode='w') as f:\n",
        "  f.write(out_text)\n",
        "\n",
        "print(f\"結果を {out_put} に保存しました\")\n",
        "print(\"\\n===↓出力結果↓===\\n\")\n",
        "print(out_text)"
      ],
      "metadata": {
        "id": "l5gKs3lb35FH",
        "colab": {
          "base_uri": "https://localhost:8080/",
          "height": 384
        },
        "outputId": "4e1b387c-a808-405a-cffd-6e03ecec370e"
      },
      "execution_count": null,
      "outputs": [
        {
          "output_type": "stream",
          "name": "stdout",
          "text": [
            "===Result===\n"
          ]
        },
        {
          "output_type": "display_data",
          "data": {
            "text/plain": [
              "<IPython.core.display.Math object>"
            ],
            "text/latex": "$\\displaystyle SAR = 0.0526 \\pm 0.0017 \\:\\mathrm{W/g}$"
          },
          "metadata": {}
        },
        {
          "output_type": "stream",
          "name": "stdout",
          "text": [
            "\n",
            "===Save===\n",
            "結果を out_put/FNS00_1_2024-09-11_result.txt に保存しました\n",
            "\n",
            "===↓出力結果↓===\n",
            "\n",
            "===SAR===\n",
            "SAR = 0.0526 ± 0.0017 W/g\n",
            "n===Fit Parameters===\n",
            "a = 38.6 ± 0.0 ℃\n",
            "b = 1.45 ± 0.01 ℃\n",
            "k = 0.0087 ± 0.0002 K/s\n",
            "\n",
            "===Fitting Result===\n",
            "R^2 = 0.919\n",
            "χ^2 = 0.9431\n",
            "P = 1\n",
            "\n"
          ]
        }
      ]
    },
    {
      "cell_type": "code",
      "source": [
        "#@title グラフの作成 { display-mode: \"form\"}\n",
        "#@markdown ###タイトル\n",
        "title = \"Temperature over Time\" # @param {\"type\":\"string\"}\n",
        "#@markdown ###グラフ全体のスタイル\n",
        "graph_style = \"ggplot\" # @param [\"seaborn\", \"fivethirtyeight\", \"ggplot\",\"bmh\", \"classic\", \"dark_background\", \"grayscale\", \"fast\", \"seaborn-bright\", \"seaborn-colorblind\", \"seaborn-dark\", \"seaborn-poster\", \"seaborn-darkgrid\"]\n",
        "#@markdown ###タイトルのフォントサイズ\n",
        "title_font_size = 24 # @param {type:\"slider\", min:10, max:60, step:1}\n",
        "#@markdown ###$x$軸名\n",
        "xlabel = \"Time (s)\" # @param {\"type\":\"string\"}\n",
        "#@markdown ###$y$軸名\n",
        "ylabel = \"Temperature (degree)\" # @param {\"type\":\"string\"}\n",
        "#@markdown ###データのラベル\n",
        "dlabel = \"measured data\" # @param {\"type\":\"string\"}\n",
        "#@markdown ###軸名のフォントサイズ\n",
        "font_size = 20 # @param {type:\"slider\", min:10, max:40, step:1}\n",
        "#@markdown ###フィッティングのラベル\n",
        "fit_label = \"fitting\" # @param {\"type\":\"string\"}\n",
        "#@markdown ###データの色\n",
        "color = \"#1f77b4\" #@param ['#1f77b4', '#ff7f0e', '#2ca02c', '#d62728', '#9467bd', '#8c564b', '#e377c2', '#7f7f7f', '#bcbd22', '#17becf'] {allow-input: true}\n",
        "#@markdown ###データの線スタイル\n",
        "linestyle = \"o-\" #@param [\"o\", \"o-\", \"-\", \"--\", \"-.\", \":\"] {allow-input: true}\n",
        "#@markdown ###データの線幅\n",
        "linewidth = 1 #@param {type:\"slider\", min:0, max:10, step:0.1}\n",
        "#@markdown ###データのマーカーサイズ\n",
        "markersize = 2 #@param {type:\"slider\", min:0, max:10, step:0.1}\n",
        "#@markdown ###フィッティングの色\n",
        "fit_color = \"#ff7f0e\" #@param ['#1f77b4', '#ff7f0e', '#2ca02c', '#d62728', '#9467bd', '#8c564b', '#e377c2', '#7f7f7f', '#bcbd22', '#17becf'] {allow-input: true}\n",
        "#@markdown ###フィッティングの線スタイル\n",
        "fit_linestyle = \"-\" #@param [\"-\", \"--\", \"-.\", \":\"] {allow-input: true}\n",
        "#@markdown ###フィッティングの線幅\n",
        "fit_linewidth = 2 #@param {type:\"slider\", min:0, max:10, step:0.1}\n",
        "#@markdown ###凡例のサイズ\n",
        "legend_font_size = 16 #@param {type:\"slider\", min:10, max:40, step:1}\n",
        "\n",
        "plt.plot(df['Time'], df['Temperature'], linestyle, label=dlabel,\n",
        "         linewidth=linewidth, markersize=markersize, color=color)\n",
        "plt.plot(fit_x, fit_y, fit_linestyle, label=fit_label,\n",
        "         linewidth=fit_linewidth, color=fit_color)\n",
        "\n",
        "plt.style.use(graph_style)\n",
        "\n",
        "plt.title(title, fontsize=title_font_size)\n",
        "plt.xlabel(xlabel, fontsize=font_size)\n",
        "plt.ylabel(ylabel, fontsize=font_size)\n",
        "\n",
        "plt.legend(fontsize=legend_font_size)\n",
        "\n",
        "os.makedirs(\"graph\", exist_ok=True)\n",
        "plt.savefig(f\"graph/{file_name}.png\")\n",
        "print(f\"グラフを graph/{file_name}.png に保存しました\")\n",
        "\n",
        "plt.show()\n",
        "\n"
      ],
      "metadata": {
        "id": "LxzGPYGCwYBy"
      },
      "execution_count": null,
      "outputs": []
    },
    {
      "cell_type": "code",
      "source": [
        "# @title at once\n",
        "\n",
        "file_path = os.path.join(dir_name_ud, this_file.value)\n",
        "file_name = os.path.basename(file_path)\n",
        "file_name = os.path.splitext(file_name)[0]\n",
        "\n",
        "df = read_data(file_path)\n",
        "df = offset_row(df, \"Temperature\", 37)\n",
        "\n",
        "a = 36 # @param {\"type\":\"number\"}\n",
        "b = 0.5 # @param {\"type\":\"number\"}\n",
        "k = 0.1 # @param {\"type\":\"number\"}\n",
        "\n",
        "initial_guess = [a, b, k]\n",
        "popt, pcov = curve_fit(exponential_func, df['Time'], df['Temperature'], p0=initial_guess)\n",
        "disp_popt = [\"\"]*3\n",
        "decimals = [1, 2, 4]\n",
        "for i , p in enumerate(popt):\n",
        "  disp_popt[i] = f\"{p:.{decimals[i]}f}\"\n",
        "sigmas = np.sqrt(np.diag(pcov))\n",
        "disp_sigmas = [\"\"]*3\n",
        "for i , p in enumerate(sigmas):\n",
        "  disp_sigmas[i] = f\"{p:.{count_decimal_places(disp_popt[i])}f}\"\n",
        "\n",
        "ROC = square_error_d2f(df['Time'], df['Temperature'], exponential_func, popt)\n",
        "ROC_disp = f\"{ROC:.4g}\"\n",
        "chi_square, p_value = chi_square_d2f(df['Time'], df['Temperature'], exponential_func, popt)\n",
        "chi_square = f\"{chi_square:.4g}\"\n",
        "p_value = f\"{p_value:.4g}\"\n",
        "\n",
        "delta_T = df['Temperature'].iloc[-1] - df['Temperature'].iloc[0]\n",
        "delta_TB = abs(delta_T - popt[1])\n",
        "delta_TB = f\"{delta_TB:.4g}\"\n",
        "\n",
        "print(\"===Result===\")\n",
        "\n",
        "display(Math(r'$R^2 = {roc}$'.format(roc=ROC_disp)))\n",
        "display(Math(r'$\\chi^2 = {chi_sq}$'.format(chi_sq=chi_square)))\n",
        "display(Math(r'$P = {p}$'.format(p=p_value)))\n",
        "\n",
        "fit_x = np.linspace(df['Time'].min(), df['Time'].max(), 100)\n",
        "fit_y = exponential_func(fit_x, *popt)\n",
        "fit_y_ts = exponential_func(df['Time'], *popt)\n",
        "\n",
        "plt.plot(df['Time'], df['Temperature'], 'o-', label='data',\n",
        "         linewidth=1, markersize=2\n",
        "         )\n",
        "plt.plot(fit_x, fit_y, '-', label='fit', linewidth=2)\n",
        "\n",
        "plt.title('Temperature over Time')\n",
        "plt.xlabel('Time (s)')\n",
        "plt.ylabel('Temperature (degree)')\n",
        "\n",
        "plt.legend()\n",
        "\n",
        "plt.show()\n",
        "\n",
        "C = 4.178 # @param {\"type\":\"number\"}\n",
        "C_sigma = 0 # @param {\"type\":\"number\"}\n",
        "\n",
        "delta_T_check = False # @param {type:\"boolean\"}\n",
        "\n",
        "del_T = popt[1]\n",
        "del_T_sigma = sigmas[1]\n",
        "if delta_T_check:\n",
        "  del_T = delta_T\n",
        "  del_T_sigma = 2 * np.sqrt(np.sum((df['Temperature'] - fit_y_ts)**2)) / len(df['Temperature'])\n",
        "\n",
        "SAR = C * del_T * popt[2]\n",
        "SAR = f\"{SAR:.3g}\"\n",
        "\n",
        "SAR_sigma = np.sqrt( del_T_sigma**2 * C * popt[2] + sigmas[2]**2 * C * popt[1] + C_sigma ** 2 * popt[1] * popt[2] )\n",
        "SAR_sigma = f\"{SAR_sigma:.{count_decimal_places(SAR)}f}\"\n",
        "\n",
        "print(\"===Result===\")\n",
        "display(Math(r'$SAR = {sar} \\pm {sar_sd} \\:\\mathrm{{W/g}}$'.format(sar=SAR, sar_sd=SAR_sigma)))\n",
        "\n",
        "print(\"\\n===Save===\")\n",
        "os.makedirs(\"out_put\", exist_ok=True)\n",
        "out_put = os.path.join(\"out_put\", f\"{file_name}_result.txt\")\n",
        "out_text = f\"===SAR===\\n\"\n",
        "out_text += f\"SAR = {SAR} ± {SAR_sigma} W/g\\n\"\n",
        "out_text += f\"n===Fit Parameters===\\n\"\n",
        "out_text += f\"a = {disp_popt[0]} ± {disp_sigmas[0]} ℃\\n\"\n",
        "out_text += f\"b = {disp_popt[1]} ± {disp_sigmas[1]} ℃\\n\"\n",
        "out_text += f\"k = {disp_popt[2]} ± {disp_sigmas[2]} K/s\\n\"\n",
        "out_text += f\"\\n===Fitting Result===\\n\"\n",
        "out_text += f\"R^2 = {ROC_disp}\\n\"\n",
        "out_text += f\"χ^2 = {chi_square}\\n\"\n",
        "out_text += f\"P = {p_value}\\n\"\n",
        "\n",
        "with open(out_put, mode='w') as f:\n",
        "  f.write(out_text)\n",
        "\n",
        "print(f\"結果を {out_put} に保存しました\")\n"
      ],
      "metadata": {
        "cellView": "form",
        "colab": {
          "base_uri": "https://localhost:8080/",
          "height": 650
        },
        "id": "1-rZotQ5LH0Z",
        "outputId": "5fcac3ca-b555-42ff-9c22-56c0b4b79323"
      },
      "execution_count": null,
      "outputs": [
        {
          "output_type": "stream",
          "name": "stdout",
          "text": [
            "===Result===\n"
          ]
        },
        {
          "output_type": "display_data",
          "data": {
            "text/plain": [
              "<IPython.core.display.Math object>"
            ],
            "text/latex": "$\\displaystyle R^2 = 0.9949$"
          },
          "metadata": {}
        },
        {
          "output_type": "display_data",
          "data": {
            "text/plain": [
              "<IPython.core.display.Math object>"
            ],
            "text/latex": "$\\displaystyle \\chi^2 = 0.8418$"
          },
          "metadata": {}
        },
        {
          "output_type": "display_data",
          "data": {
            "text/plain": [
              "<IPython.core.display.Math object>"
            ],
            "text/latex": "$\\displaystyle P = 1$"
          },
          "metadata": {}
        },
        {
          "output_type": "display_data",
          "data": {
            "text/plain": [
              "<Figure size 640x480 with 1 Axes>"
            ],
            "image/png": "[encoded data removed]"
          },
          "metadata": {}
        },
        {
          "output_type": "stream",
          "name": "stdout",
          "text": [
            "===Result===\n"
          ]
        },
        {
          "output_type": "display_data",
          "data": {
            "text/plain": [
              "<IPython.core.display.Math object>"
            ],
            "text/latex": "$\\displaystyle SAR = 0.226 \\pm 0.002 \\:\\mathrm{W/g}$"
          },
          "metadata": {}
        },
        {
          "output_type": "stream",
          "name": "stdout",
          "text": [
            "\n",
            "===Save===\n",
            "結果を out_put/1K_60_3_result.txt に保存しました\n"
          ]
        }
      ]
    }
  ]
}