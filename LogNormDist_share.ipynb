{
  "nbformat": 4,
  "nbformat_minor": 0,
  "metadata": {
    "colab": {
      "provenance": [],
      "authorship_tag": "ABX9TyMNGpcCLalIwjsGeFRjX7qt",
      "include_colab_link": true
    },
    "kernelspec": {
      "name": "python3",
      "display_name": "Python 3"
    },
    "language_info": {
      "name": "python"
    }
  },
  "cells": [
    {
      "cell_type": "markdown",
      "metadata": {
        "id": "view-in-github",
        "colab_type": "text"
      },
      "source": [
        "<a href=\"https://colab.research.google.com/github/phi1z/1yanagiLab/blob/main/LogNormDist_share.ipynb\" target=\"_parent\"><img src=\"https://colab.research.google.com/assets/colab-badge.svg\" alt=\"Open In Colab\"/></a>"
      ]
    },
    {
      "cell_type": "markdown",
      "source": [
        "# 対数正規分布のグラフを作成すプログラムです\n",
        "\n",
        "## 1.値の設定\n",
        "データの個数(`N_Data`)、x軸の最小値(`x_min`)-最大値(`x_max`)を入力して下さい。\n",
        "次に分布の平均(`mu`)と分布の標準偏差(`sigma`)を代入してください。\n",
        "ただし平均は指数でないこと($\\mathrm{mu} \\neq e^\\mu$)に注視して下さい。\n",
        "\n",
        "**値を設定したら、実行ボタン(〇の中に▷)を押して下さい**\n",
        "　　※値が反映されません\n",
        "\n",
        "## 2.グラフの設定\n",
        "グラフの名前(`Title`)、サンプル名(`sample_name`)、x軸の名前(`X_label`)、y軸の名前(`Y_label`)、線の色(`color`)、線のスタイル(`line_style`)を指定してください。線の色は色の頭文字です。\n",
        "また、`X_scale_is_log`にチェックを入れると、$x$軸が対数スケールになります。$y$軸も同様です。\n",
        "\n",
        "**実行ボタン(〇の中に▷)で、下にグラフが表示されます**\n",
        "\n",
        "※ $x$軸を対数スケールにするとデータの感覚も自動で対数になります。\n",
        "\n",
        "## 3.データの保存\n",
        "左のフォルダーのマークを押すと、LogNormDist_{サンプル名}の画像ファイルが生成されます。.pdfと.pngがあるので、好きな方をローカル環境に保存してください\n",
        "\n",
        "## 4.さらに細かい設定\n",
        "グラフの設定の左にある(>)ボタンを押すと、\n",
        "プログラムが編集できます。さらに細かい設定をする場合は自分でお願いします。"
      ],
      "metadata": {
        "id": "Sjx6MFGDROps"
      }
    },
    {
      "cell_type": "code",
      "execution_count": null,
      "metadata": {
        "colab": {
          "base_uri": "https://localhost:8080/"
        },
        "cellView": "form",
        "id": "Fm5RghxPGz57",
        "outputId": "2f270665-af9f-4490-ff09-02ef5ed50b9f"
      },
      "outputs": [
        {
          "output_type": "stream",
          "name": "stdout",
          "text": [
            "N = 1000, x is from 1 to 10\n",
            "mu = 3, sigma = 0.5\n"
          ]
        }
      ],
      "source": [
        "#@title 値の設定\n",
        "\n",
        "import matplotlib.pyplot as plt\n",
        "import numpy as np\n",
        "from scipy.stats import lognorm\n",
        "from scipy import integrate\n",
        "\n",
        "N_Data = 1000 #@param {type:\"number\"}\n",
        "x_min = 1 #@param {type:\"number\"}\n",
        "x_max = 10 #@param {type:\"number\"}\n",
        "x_values = np.linspace(x_min, x_max, 1000)\n",
        "mu = 3 #@param {type:\"number\"}\n",
        "sigma = 0.5 #@param {type:\"number\"}\n",
        "y_values = lognorm.pdf(x_values, sigma, scale=mu)\n",
        "\n",
        "print(f'N = {N_Data}, x is from {x_min} to {x_max}')\n",
        "print(f'mu = {mu}, sigma = {sigma}')"
      ]
    },
    {
      "cell_type": "code",
      "source": [
        "#@title グラフの設定\n",
        "\n",
        "Title = \"title\" #@param {type:\"string\"}\n",
        "sample_name = \"sample\" #@param {type:\"string\"}\n",
        "X_label = \"x_label\" #@param {type:\"string\"}\n",
        "Y_label = \"y_label\" #@param {type:\"string\"}\n",
        "\n",
        "X_scale_is_log = False #@param {type:\"boolean\"}\n",
        "Y_scale_is_log = False #@param {type:\"boolean\"}\n",
        "\n",
        "# Set x-axis to logarithmic scale\n",
        "if X_scale_is_log:\n",
        "  x_values = np.logspace(np.log10(x_min), np.log10(x_max), N_Data)\n",
        "  y_values = lognorm.pdf(x_values, sigma, scale=mu)\n",
        "  plt.xscale('log')\n",
        "\n",
        "if Y_scale_is_log:\n",
        "  plt.yscale('log')\n",
        "\n",
        "Color = \"b\" #@param [\"r\", \"g\", \"b\", \"c\", \"m\", \"y\", \"k\", \"w\"] {allow-input: true}\n",
        "Line_style = \"-\" #@param [\"-\", \"--\", \"-.\", \":\"] {allow-input: true}\n",
        "\n",
        "plt.title(Title)\n",
        "plt.xlabel(X_label)\n",
        "plt.ylabel(Y_label)\n",
        "plt.xlim(x_min, x_max)\n",
        "\n",
        "plt.plot(x_values, y_values, color=Color, ls = Line_style, label=sample_name) # Plot the data\n",
        "\n",
        "# Add legend\n",
        "plt.legend()\n",
        "\n",
        "# Save the graph\n",
        "plt.savefig(\"LogNormDist_\"+sample_name+\".png\", dpi=300)\n",
        "plt.savefig(\"LogNormDist_\"+sample_name+\".pdf\")\n",
        "\n",
        "# Display the graph\n",
        "plt.show()\n",
        "\n",
        "\n"
      ],
      "metadata": {
        "colab": {
          "base_uri": "https://localhost:8080/",
          "height": 472
        },
        "cellView": "form",
        "id": "UkRleGvdIqEj",
        "outputId": "226110a5-384e-4d47-e939-20c2f0344eef"
      },
      "execution_count": null,
      "outputs": [
        {
          "output_type": "display_data",
          "data": {
            "text/plain": [
              "<Figure size 640x480 with 1 Axes>"
            ],
            "image/png": "[encoded data removed]"
          },
          "metadata": {}
        }
      ]
    },
    {
      "cell_type": "code",
      "source": [],
      "metadata": {
        "id": "N9TGfTbBHzT1"
      },
      "execution_count": null,
      "outputs": []
    }
  ]
}
